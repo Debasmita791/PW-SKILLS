{
  "cells": [
    {
      "cell_type": "markdown",
      "metadata": {
        "id": "DimstIp97RUl"
      },
      "source": [
        "**1. What is Object-Oriented Programming (OOP)?**\n",
        "\n",
        "OOP is a programming paradigm based on objects that encapsulate data and behavior.\n"
      ]
    },
    {
      "cell_type": "markdown",
      "metadata": {
        "id": "HvMKjOIE7RUm"
      },
      "source": [
        "**2. What is a class in OOP?**\n",
        "\n",
        "A class is a blueprint for creating objects with attributes and methods.\n"
      ]
    },
    {
      "cell_type": "markdown",
      "metadata": {
        "id": "nXNVmnAM7RUm"
      },
      "source": [
        "**3. What is an object in OOP?**\n",
        "\n",
        "An object is an instance of a class representing real-world entities.\n"
      ]
    },
    {
      "cell_type": "code",
      "source": [],
      "metadata": {
        "id": "SfjnEEPu7xjY"
      },
      "execution_count": null,
      "outputs": []
    },
    {
      "cell_type": "markdown",
      "metadata": {
        "id": "k7hT1Yfb7RUn"
      },
      "source": [
        "**4. What is the difference between abstraction and encapsulation?**\n",
        "\n",
        "Abstraction hides implementation details, Encapsulation wraps data and methods with restricted access.\n"
      ]
    },
    {
      "cell_type": "markdown",
      "metadata": {
        "id": "IguLv4EF7RUn"
      },
      "source": [
        "**5. What are dunder methods in Python?**\n",
        "\n",
        "Dunder methods are double underscore methods like __init__, __str__, used for operator overloading and customization.\n"
      ]
    },
    {
      "cell_type": "markdown",
      "metadata": {
        "id": "2Chmc15L7RUn"
      },
      "source": [
        "**6. Explain the concept of inheritance in OOP.**\n",
        "\n",
        "Inheritance allows a class to acquire properties and behavior of another class.\n"
      ]
    },
    {
      "cell_type": "markdown",
      "metadata": {
        "id": "IukfC2Za7RUo"
      },
      "source": [
        "**7. What is polymorphism in OOP?**\n",
        "\n",
        "Polymorphism allows methods to behave differently depending on the object.\n"
      ]
    },
    {
      "cell_type": "markdown",
      "metadata": {
        "id": "Pq1C-HPJ7RUo"
      },
      "source": [
        "**8. How is encapsulation achieved in Python?**\n",
        "\n",
        "Encapsulation is achieved using private variables and getters/setters.\n"
      ]
    },
    {
      "cell_type": "markdown",
      "metadata": {
        "id": "NBrT6lvJ7RUp"
      },
      "source": [
        "**9. What is a constructor in Python?**\n",
        "\n",
        "A constructor is the __init__ method in Python, initializing object attributes.\n"
      ]
    },
    {
      "cell_type": "markdown",
      "metadata": {
        "id": "aEzqoxR37RUp"
      },
      "source": [
        "**10. What are class and static methods in Python?**\n",
        "\n",
        "Class methods use @classmethod and operate on class variables; static methods use @staticmethod and act like normal functions inside class.\n"
      ]
    },
    {
      "cell_type": "markdown",
      "metadata": {
        "id": "gO9ivAEa7RUp"
      },
      "source": [
        "**11. What is method overloading in Python?**\n",
        "\n",
        "Python doesn't support overloading directly, but it can be simulated using default arguments.\n"
      ]
    },
    {
      "cell_type": "markdown",
      "metadata": {
        "id": "5Wjsbw1K7RUp"
      },
      "source": [
        "**12. What is method overriding in OOP?**\n",
        "\n",
        "Overriding is redefining parent class methods in the child class.\n"
      ]
    },
    {
      "cell_type": "markdown",
      "metadata": {
        "id": "_IBy-NRy7RUp"
      },
      "source": [
        "**13. What is a property decorator in Python?**\n",
        "\n",
        "Property decorators provide a pythonic way to use getters/setters.\n"
      ]
    },
    {
      "cell_type": "markdown",
      "metadata": {
        "id": "o1d8Sa9y7RUq"
      },
      "source": [
        "**14. Why is polymorphism important in OOP?**\n",
        "\n",
        "Polymorphism enhances flexibility and reusability.\n"
      ]
    },
    {
      "cell_type": "markdown",
      "metadata": {
        "id": "aOgZ65F_7RUq"
      },
      "source": [
        "**15. What is an abstract class in Python?**\n",
        "\n",
        "Abstract class is defined using abc module with abstract methods.\n"
      ]
    },
    {
      "cell_type": "markdown",
      "metadata": {
        "id": "cYfBG_u27RUq"
      },
      "source": [
        "**16. What are the advantages of OOP?**\n",
        "\n",
        "Advantages: reusability, modularity, maintainability, scalability, real-world modeling.\n"
      ]
    },
    {
      "cell_type": "markdown",
      "metadata": {
        "id": "PnmGeoMq7RUq"
      },
      "source": [
        "**17. What is the difference between a class variable and an instance variable?**\n",
        "\n",
        "Class variable is shared by all objects, instance variable is unique per object.\n"
      ]
    },
    {
      "cell_type": "markdown",
      "metadata": {
        "id": "F4tk5Svm7RUq"
      },
      "source": [
        "**18. What is multiple inheritance in Python?**\n",
        "\n",
        "Multiple inheritance allows a class to inherit from multiple parent classes.\n"
      ]
    },
    {
      "cell_type": "markdown",
      "metadata": {
        "id": "FuED2CtS7RUq"
      },
      "source": [
        "**19. Explain the purpose of __str__ and __repr__ methods in Python.**\n",
        "\n",
        "__str__ gives user-friendly string, __repr__ gives unambiguous representation for developers.\n"
      ]
    },
    {
      "cell_type": "markdown",
      "metadata": {
        "id": "_b4V4IIT7RUq"
      },
      "source": [
        "**20. What is the significance of the super() function in Python?**\n",
        "\n",
        "super() is used to call parent class methods.\n"
      ]
    },
    {
      "cell_type": "markdown",
      "metadata": {
        "id": "0Wo_TgFT7RUq"
      },
      "source": [
        "**21. What is the significance of the __del__ method in Python?**\n",
        "\n",
        "__del__ is a destructor called when object is deleted.\n"
      ]
    },
    {
      "cell_type": "markdown",
      "metadata": {
        "id": "NcOu_fTj7RUq"
      },
      "source": [
        "**22. What is the difference between @staticmethod and @classmethod in Python?**\n",
        "\n",
        "@staticmethod doesn’t use cls or self, @classmethod uses cls to operate on class variables.\n"
      ]
    },
    {
      "cell_type": "markdown",
      "metadata": {
        "id": "V2bGG_aj7RUr"
      },
      "source": [
        "**23. How does polymorphism work in Python with inheritance?**\n",
        "\n",
        "Polymorphism works by overriding methods in derived classes.\n"
      ]
    },
    {
      "cell_type": "markdown",
      "metadata": {
        "id": "sJ0Jh4Hz7RUr"
      },
      "source": [
        "**24. What is method chaining in Python OOP?**\n",
        "\n",
        "Method chaining allows multiple method calls in a single line using return self.\n"
      ]
    },
    {
      "cell_type": "markdown",
      "metadata": {
        "id": "sqiehbll7RUr"
      },
      "source": [
        "**25. What is the purpose of the __call__ method in Python?**\n",
        "\n",
        "__call__ makes objects callable like functions.\n"
      ]
    },
    {
      "cell_type": "markdown",
      "metadata": {
        "id": "sSj8aRua7RUr"
      },
      "source": [
        "### Practical Q1\n"
      ]
    },
    {
      "cell_type": "code",
      "metadata": {
        "colab": {
          "base_uri": "https://localhost:8080/"
        },
        "id": "Lv32NFk97RUr",
        "outputId": "006c6a6c-f446-4a1b-b724-2605010a08f6"
      },
      "execution_count": 1,
      "outputs": [
        {
          "output_type": "stream",
          "name": "stdout",
          "text": [
            "Bark!\n"
          ]
        }
      ],
      "source": [
        "class Animal:\n",
        "    def speak(self):\n",
        "        print(\"Generic Animal Sound\")\n",
        "\n",
        "class Dog(Animal):\n",
        "    def speak(self):\n",
        "        print(\"Bark!\")\n",
        "\n",
        "d = Dog()\n",
        "d.speak()"
      ]
    },
    {
      "cell_type": "markdown",
      "metadata": {
        "id": "oFJZUjI77RUr"
      },
      "source": [
        "### Practical Q2\n"
      ]
    },
    {
      "cell_type": "code",
      "metadata": {
        "colab": {
          "base_uri": "https://localhost:8080/"
        },
        "id": "at47UbYV7RUr",
        "outputId": "441ff750-8a70-481f-c9d8-8e27ecd4ef40"
      },
      "execution_count": 2,
      "outputs": [
        {
          "output_type": "stream",
          "name": "stdout",
          "text": [
            "78.5\n",
            "24\n"
          ]
        }
      ],
      "source": [
        "from abc import ABC, abstractmethod\n",
        "\n",
        "class Shape(ABC):\n",
        "    @abstractmethod\n",
        "    def area(self):\n",
        "        pass\n",
        "\n",
        "class Circle(Shape):\n",
        "    def __init__(self, radius):\n",
        "        self.radius = radius\n",
        "    def area(self):\n",
        "        return 3.14 * self.radius ** 2\n",
        "\n",
        "class Rectangle(Shape):\n",
        "    def __init__(self, length, width):\n",
        "        self.length = length\n",
        "        self.width = width\n",
        "    def area(self):\n",
        "        return self.length * self.width\n",
        "\n",
        "c = Circle(5)\n",
        "r = Rectangle(4, 6)\n",
        "print(c.area())\n",
        "print(r.area())"
      ]
    },
    {
      "cell_type": "markdown",
      "metadata": {
        "id": "RhvUBFOw7RUr"
      },
      "source": [
        "### Practical Q3\n"
      ]
    },
    {
      "cell_type": "code",
      "metadata": {
        "colab": {
          "base_uri": "https://localhost:8080/"
        },
        "id": "8hGuEguB7RUs",
        "outputId": "c4316c57-75b0-420f-8abe-52120c2c9062"
      },
      "execution_count": 3,
      "outputs": [
        {
          "output_type": "stream",
          "name": "stdout",
          "text": [
            "Car Tesla 100 kWh\n"
          ]
        }
      ],
      "source": [
        "class Vehicle:\n",
        "    def __init__(self, v_type):\n",
        "        self.v_type = v_type\n",
        "\n",
        "class Car(Vehicle):\n",
        "    def __init__(self, v_type, brand):\n",
        "        super().__init__(v_type)\n",
        "        self.brand = brand\n",
        "\n",
        "class ElectricCar(Car):\n",
        "    def __init__(self, v_type, brand, battery):\n",
        "        super().__init__(v_type, brand)\n",
        "        self.battery = battery\n",
        "\n",
        "e = ElectricCar(\"Car\", \"Tesla\", \"100 kWh\")\n",
        "print(e.v_type, e.brand, e.battery)"
      ]
    },
    {
      "cell_type": "markdown",
      "metadata": {
        "id": "oxrmy-B77RUs"
      },
      "source": [
        "### Practical Q4\n"
      ]
    },
    {
      "cell_type": "code",
      "metadata": {
        "colab": {
          "base_uri": "https://localhost:8080/"
        },
        "id": "ZgFBXBZ37RUs",
        "outputId": "01120d77-57ff-4f62-cf06-026636a63f96"
      },
      "execution_count": 4,
      "outputs": [
        {
          "output_type": "stream",
          "name": "stdout",
          "text": [
            "Sparrow is flying\n",
            "Penguins cannot fly\n"
          ]
        }
      ],
      "source": [
        "class Bird:\n",
        "    def fly(self):\n",
        "        print(\"Birds can fly\")\n",
        "\n",
        "class Sparrow(Bird):\n",
        "    def fly(self):\n",
        "        print(\"Sparrow is flying\")\n",
        "\n",
        "class Penguin(Bird):\n",
        "    def fly(self):\n",
        "        print(\"Penguins cannot fly\")\n",
        "\n",
        "b1 = Sparrow()\n",
        "b2 = Penguin()\n",
        "b1.fly()\n",
        "b2.fly()"
      ]
    },
    {
      "cell_type": "markdown",
      "metadata": {
        "id": "SpK9Me_K7RUs"
      },
      "source": [
        "### Practical Q5\n"
      ]
    },
    {
      "cell_type": "code",
      "metadata": {
        "colab": {
          "base_uri": "https://localhost:8080/"
        },
        "id": "AmXoYthK7RUs",
        "outputId": "6c16449a-e5a9-47e9-8165-d26002447fe2"
      },
      "execution_count": 5,
      "outputs": [
        {
          "output_type": "stream",
          "name": "stdout",
          "text": [
            "Balance: 600\n"
          ]
        }
      ],
      "source": [
        "class BankAccount:\n",
        "    def __init__(self, balance=0):\n",
        "        self.__balance = balance\n",
        "\n",
        "    def deposit(self, amount):\n",
        "        self.__balance += amount\n",
        "\n",
        "    def withdraw(self, amount):\n",
        "        if amount <= self.__balance:\n",
        "            self.__balance -= amount\n",
        "        else:\n",
        "            print(\"Insufficient balance\")\n",
        "\n",
        "    def get_balance(self):\n",
        "        return self.__balance\n",
        "\n",
        "acc = BankAccount(500)\n",
        "acc.deposit(200)\n",
        "acc.withdraw(100)\n",
        "print(\"Balance:\", acc.get_balance())"
      ]
    },
    {
      "cell_type": "markdown",
      "metadata": {
        "id": "H-sCY4Uy7RUs"
      },
      "source": [
        "### Practical Q6\n"
      ]
    },
    {
      "cell_type": "code",
      "metadata": {
        "colab": {
          "base_uri": "https://localhost:8080/"
        },
        "id": "CxqV4YkY7RUs",
        "outputId": "27f2aabe-0400-4475-f830-330242e5e9ba"
      },
      "execution_count": 6,
      "outputs": [
        {
          "output_type": "stream",
          "name": "stdout",
          "text": [
            "Playing Guitar\n",
            "Playing Piano\n"
          ]
        }
      ],
      "source": [
        "class Instrument:\n",
        "    def play(self):\n",
        "        print(\"Playing instrument\")\n",
        "\n",
        "class Guitar(Instrument):\n",
        "    def play(self):\n",
        "        print(\"Playing Guitar\")\n",
        "\n",
        "class Piano(Instrument):\n",
        "    def play(self):\n",
        "        print(\"Playing Piano\")\n",
        "\n",
        "i1 = Guitar()\n",
        "i2 = Piano()\n",
        "i1.play()\n",
        "i2.play()"
      ]
    },
    {
      "cell_type": "markdown",
      "metadata": {
        "id": "4pIDIZjL7RUs"
      },
      "source": [
        "### Practical Q7\n"
      ]
    },
    {
      "cell_type": "code",
      "metadata": {
        "colab": {
          "base_uri": "https://localhost:8080/"
        },
        "id": "MUiehshz7RUt",
        "outputId": "95e7956e-c4da-474a-c74d-b83f3f12958a"
      },
      "execution_count": 7,
      "outputs": [
        {
          "output_type": "stream",
          "name": "stdout",
          "text": [
            "30\n",
            "20\n"
          ]
        }
      ],
      "source": [
        "class MathOperations:\n",
        "    @classmethod\n",
        "    def add_numbers(cls, a, b):\n",
        "        return a + b\n",
        "\n",
        "    @staticmethod\n",
        "    def subtract_numbers(a, b):\n",
        "        return a - b\n",
        "\n",
        "print(MathOperations.add_numbers(10, 20))\n",
        "print(MathOperations.subtract_numbers(30, 10))"
      ]
    },
    {
      "cell_type": "markdown",
      "metadata": {
        "id": "uGYxbszx7RUt"
      },
      "source": [
        "### Practical Q8\n"
      ]
    },
    {
      "cell_type": "code",
      "metadata": {
        "colab": {
          "base_uri": "https://localhost:8080/"
        },
        "id": "ANai53ta7RUt",
        "outputId": "3f1d6fc9-f14d-4198-f756-df2c4891ebd9"
      },
      "execution_count": 8,
      "outputs": [
        {
          "output_type": "stream",
          "name": "stdout",
          "text": [
            "Total Persons: 2\n"
          ]
        }
      ],
      "source": [
        "class Person:\n",
        "    count = 0\n",
        "\n",
        "    def __init__(self, name):\n",
        "        self.name = name\n",
        "        Person.count += 1\n",
        "\n",
        "    @classmethod\n",
        "    def total_persons(cls):\n",
        "        return cls.count\n",
        "\n",
        "p1 = Person(\"Alice\")\n",
        "p2 = Person(\"Bob\")\n",
        "print(\"Total Persons:\", Person.total_persons())"
      ]
    },
    {
      "cell_type": "markdown",
      "metadata": {
        "id": "RmvELqYx7RUu"
      },
      "source": [
        "### Practical Q9\n"
      ]
    },
    {
      "cell_type": "code",
      "metadata": {
        "colab": {
          "base_uri": "https://localhost:8080/"
        },
        "id": "aqCrQjBe7RUu",
        "outputId": "24d52406-6552-495d-cf66-118ad0d1756e"
      },
      "execution_count": 9,
      "outputs": [
        {
          "output_type": "stream",
          "name": "stdout",
          "text": [
            "3/4\n"
          ]
        }
      ],
      "source": [
        "class Fraction:\n",
        "    def __init__(self, num, den):\n",
        "        self.num = num\n",
        "        self.den = den\n",
        "\n",
        "    def __str__(self):\n",
        "        return f\"{self.num}/{self.den}\"\n",
        "\n",
        "f = Fraction(3, 4)\n",
        "print(f)"
      ]
    },
    {
      "cell_type": "markdown",
      "metadata": {
        "id": "YKwsyEA47RUu"
      },
      "source": [
        "### Practical Q10\n"
      ]
    },
    {
      "cell_type": "code",
      "metadata": {
        "colab": {
          "base_uri": "https://localhost:8080/"
        },
        "id": "sYSYwqfx7RUu",
        "outputId": "bbf40a24-24a2-41dd-895b-8ae19f7b715f"
      },
      "execution_count": 10,
      "outputs": [
        {
          "output_type": "stream",
          "name": "stdout",
          "text": [
            "(6, 8)\n"
          ]
        }
      ],
      "source": [
        "class Vector:\n",
        "    def __init__(self, x, y):\n",
        "        self.x = x\n",
        "        self.y = y\n",
        "\n",
        "    def __add__(self, other):\n",
        "        return Vector(self.x + other.x, self.y + other.y)\n",
        "\n",
        "    def __str__(self):\n",
        "        return f\"({self.x}, {self.y})\"\n",
        "\n",
        "v1 = Vector(2, 3)\n",
        "v2 = Vector(4, 5)\n",
        "print(v1 + v2)"
      ]
    },
    {
      "cell_type": "markdown",
      "metadata": {
        "id": "XTKaWkso7RUu"
      },
      "source": [
        "### Practical Q11\n"
      ]
    },
    {
      "cell_type": "code",
      "metadata": {
        "colab": {
          "base_uri": "https://localhost:8080/"
        },
        "id": "yF6NjC2b7RUv",
        "outputId": "75dfe8c8-6994-487d-aa74-3486fc2f8f88"
      },
      "execution_count": 11,
      "outputs": [
        {
          "output_type": "stream",
          "name": "stdout",
          "text": [
            "Hello, my name is John and I am 25 years old.\n"
          ]
        }
      ],
      "source": [
        "class Person:\n",
        "    def __init__(self, name, age):\n",
        "        self.name = name\n",
        "        self.age = age\n",
        "\n",
        "    def greet(self):\n",
        "        print(f\"Hello, my name is {self.name} and I am {self.age} years old.\")\n",
        "\n",
        "p = Person(\"John\", 25)\n",
        "p.greet()"
      ]
    },
    {
      "cell_type": "markdown",
      "metadata": {
        "id": "nGbXXDy37RUv"
      },
      "source": [
        "### Practical Q12\n"
      ]
    },
    {
      "cell_type": "code",
      "metadata": {
        "colab": {
          "base_uri": "https://localhost:8080/"
        },
        "id": "fOPts_Ql7RUv",
        "outputId": "98d74f0d-bc1a-4bb9-8e5b-b9ae6f9dd0a3"
      },
      "execution_count": 12,
      "outputs": [
        {
          "output_type": "stream",
          "name": "stdout",
          "text": [
            "Average: 90.0\n"
          ]
        }
      ],
      "source": [
        "class Student:\n",
        "    def __init__(self, name, grades):\n",
        "        self.name = name\n",
        "        self.grades = grades\n",
        "\n",
        "    def average_grade(self):\n",
        "        return sum(self.grades) / len(self.grades)\n",
        "\n",
        "s = Student(\"Alice\", [80, 90, 100])\n",
        "print(\"Average:\", s.average_grade())"
      ]
    },
    {
      "cell_type": "markdown",
      "metadata": {
        "id": "QUWE3A8E7RUv"
      },
      "source": [
        "### Practical Q13\n"
      ]
    },
    {
      "cell_type": "code",
      "metadata": {
        "colab": {
          "base_uri": "https://localhost:8080/"
        },
        "id": "3CuTsEmq7RUv",
        "outputId": "137571d1-9350-4fa8-c8a6-ca43113ea8b0"
      },
      "execution_count": 13,
      "outputs": [
        {
          "output_type": "stream",
          "name": "stdout",
          "text": [
            "Area: 20\n"
          ]
        }
      ],
      "source": [
        "class Rectangle:\n",
        "    def set_dimensions(self, length, width):\n",
        "        self.length = length\n",
        "        self.width = width\n",
        "\n",
        "    def area(self):\n",
        "        return self.length * self.width\n",
        "\n",
        "r = Rectangle()\n",
        "r.set_dimensions(5, 4)\n",
        "print(\"Area:\", r.area())"
      ]
    },
    {
      "cell_type": "markdown",
      "metadata": {
        "id": "AvYbxb8z7RUv"
      },
      "source": [
        "### Practical Q14\n"
      ]
    },
    {
      "cell_type": "code",
      "metadata": {
        "colab": {
          "base_uri": "https://localhost:8080/"
        },
        "id": "MeokSXuq7RUv",
        "outputId": "d35ac4f5-f576-4015-fc62-e2f9f79fd25b"
      },
      "execution_count": 14,
      "outputs": [
        {
          "output_type": "stream",
          "name": "stdout",
          "text": [
            "Salary: 10000\n"
          ]
        }
      ],
      "source": [
        "class Employee:\n",
        "    def __init__(self, hours, rate):\n",
        "        self.hours = hours\n",
        "        self.rate = rate\n",
        "\n",
        "    def calculate_salary(self):\n",
        "        return self.hours * self.rate\n",
        "\n",
        "class Manager(Employee):\n",
        "    def __init__(self, hours, rate, bonus):\n",
        "        super().__init__(hours, rate)\n",
        "        self.bonus = bonus\n",
        "\n",
        "    def calculate_salary(self):\n",
        "        return super().calculate_salary() + self.bonus\n",
        "\n",
        "m = Manager(160, 50, 2000)\n",
        "print(\"Salary:\", m.calculate_salary())"
      ]
    },
    {
      "cell_type": "markdown",
      "metadata": {
        "id": "Kmukae3v7RUx"
      },
      "source": [
        "### Practical Q15\n"
      ]
    },
    {
      "cell_type": "code",
      "metadata": {
        "colab": {
          "base_uri": "https://localhost:8080/"
        },
        "id": "7cQ52ysB7RUx",
        "outputId": "8cfbd82c-78ee-4952-c8e9-1c84eff5f92c"
      },
      "execution_count": 15,
      "outputs": [
        {
          "output_type": "stream",
          "name": "stdout",
          "text": [
            "Total Price: 100000\n"
          ]
        }
      ],
      "source": [
        "class Product:\n",
        "    def __init__(self, name, price, quantity):\n",
        "        self.name = name\n",
        "        self.price = price\n",
        "        self.quantity = quantity\n",
        "\n",
        "    def total_price(self):\n",
        "        return self.price * self.quantity\n",
        "\n",
        "p = Product(\"Laptop\", 50000, 2)\n",
        "print(\"Total Price:\", p.total_price())"
      ]
    },
    {
      "cell_type": "markdown",
      "metadata": {
        "id": "Mk9neF737RUy"
      },
      "source": [
        "### Practical Q16\n"
      ]
    },
    {
      "cell_type": "code",
      "metadata": {
        "colab": {
          "base_uri": "https://localhost:8080/"
        },
        "id": "6j8MQHSi7RUy",
        "outputId": "c91aad66-ae7a-49d0-9209-be47966d7986"
      },
      "execution_count": 16,
      "outputs": [
        {
          "output_type": "stream",
          "name": "stdout",
          "text": [
            "Moo\n",
            "Baa\n"
          ]
        }
      ],
      "source": [
        "from abc import ABC, abstractmethod\n",
        "\n",
        "class Animal(ABC):\n",
        "    @abstractmethod\n",
        "    def sound(self):\n",
        "        pass\n",
        "\n",
        "class Cow(Animal):\n",
        "    def sound(self):\n",
        "        return \"Moo\"\n",
        "\n",
        "class Sheep(Animal):\n",
        "    def sound(self):\n",
        "        return \"Baa\"\n",
        "\n",
        "c = Cow()\n",
        "s = Sheep()\n",
        "print(c.sound())\n",
        "print(s.sound())"
      ]
    },
    {
      "cell_type": "markdown",
      "metadata": {
        "id": "WJ-iB8Fx7RUy"
      },
      "source": [
        "### Practical Q17\n"
      ]
    },
    {
      "cell_type": "code",
      "metadata": {
        "colab": {
          "base_uri": "https://localhost:8080/"
        },
        "id": "IInk88My7RUz",
        "outputId": "a5d6b62d-e18b-4b46-a16d-ee06dd8a18c1"
      },
      "execution_count": 17,
      "outputs": [
        {
          "output_type": "stream",
          "name": "stdout",
          "text": [
            "Python Basics by John Doe, 2021\n"
          ]
        }
      ],
      "source": [
        "class Book:\n",
        "    def __init__(self, title, author, year):\n",
        "        self.title = title\n",
        "        self.author = author\n",
        "        self.year = year\n",
        "\n",
        "    def get_book_info(self):\n",
        "        return f\"{self.title} by {self.author}, {self.year}\"\n",
        "\n",
        "b = Book(\"Python Basics\", \"John Doe\", 2021)\n",
        "print(b.get_book_info())"
      ]
    },
    {
      "cell_type": "markdown",
      "metadata": {
        "id": "KylKMOU-7RUz"
      },
      "source": [
        "### Practical Q18\n"
      ]
    },
    {
      "cell_type": "code",
      "metadata": {
        "colab": {
          "base_uri": "https://localhost:8080/"
        },
        "id": "X02BbOGR7RUz",
        "outputId": "0be521a9-fc0d-4b75-fa4b-fc774303e0b0"
      },
      "execution_count": 18,
      "outputs": [
        {
          "output_type": "stream",
          "name": "stdout",
          "text": [
            "123 Street 5000000 10\n"
          ]
        }
      ],
      "source": [
        "class House:\n",
        "    def __init__(self, address, price):\n",
        "        self.address = address\n",
        "        self.price = price\n",
        "\n",
        "class Mansion(House):\n",
        "    def __init__(self, address, price, rooms):\n",
        "        super().__init__(address, price)\n",
        "        self.rooms = rooms\n",
        "\n",
        "m = Mansion(\"123 Street\", 5000000, 10)\n",
        "print(m.address, m.price, m.rooms)"
      ]
    }
  ],
  "metadata": {
    "colab": {
      "provenance": []
    },
    "language_info": {
      "name": "python"
    },
    "kernelspec": {
      "name": "python3",
      "display_name": "Python 3"
    }
  },
  "nbformat": 4,
  "nbformat_minor": 0
}