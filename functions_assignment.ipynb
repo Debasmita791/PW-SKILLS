{
 "cells": [
  {
   "cell_type": "markdown",
   "id": "fece58c4",
   "metadata": {},
   "source": [
    "# Functions Assignment - Python\n",
    "This notebook contains answers to both **theory** and **practical** questions from the assignment.\n"
   ]
  },
  {
   "cell_type": "markdown",
   "id": "67626192",
   "metadata": {},
   "source": [
    "\n",
    "## 📘 Theory Questions\n",
    "\n",
    "### 1. Difference between a Function and a Method\n",
    "- **Function**: Independent block of code.  \n",
    "- **Method**: Function associated with an object.\n",
    "\n",
    "```python\n",
    "def greet(name):\n",
    "    return f\"Hello {name}\"\n",
    "\n",
    "print(greet(\"Alice\"))\n",
    "\n",
    "name = \"Alice\"\n",
    "print(name.upper())  # Method\n",
    "```\n",
    "\n",
    "---\n",
    "\n",
    "### 2. Function Arguments and Parameters\n",
    "```python\n",
    "def add(x, y):  # parameters\n",
    "    return x + y\n",
    "\n",
    "print(add(3, 5))  # arguments\n",
    "```\n",
    "\n",
    "---\n",
    "\n",
    "### 3. Different Ways to Define and Call Functions\n",
    "```python\n",
    "def greet(name=\"User\"):\n",
    "    return f\"Hello {name}\"\n",
    "\n",
    "print(greet())          \n",
    "print(greet(\"Alice\"))    \n",
    "print(greet(name=\"Bob\")) \n",
    "```\n",
    "\n",
    "---\n",
    "\n",
    "### 4. Purpose of return Statement\n",
    "```python\n",
    "def square(n):\n",
    "    return n*n\n",
    "\n",
    "print(square(5))\n",
    "```\n",
    "\n",
    "---\n",
    "\n",
    "### 5. Iterators vs Iterables\n",
    "```python\n",
    "nums = [1, 2, 3]\n",
    "it = iter(nums)\n",
    "print(next(it))\n",
    "print(next(it))\n",
    "```\n",
    "\n",
    "---\n",
    "\n",
    "### 6. Generators\n",
    "```python\n",
    "def gen_numbers():\n",
    "    for i in range(3):\n",
    "        yield i\n",
    "\n",
    "for x in gen_numbers():\n",
    "    print(x)\n",
    "```\n",
    "\n",
    "---\n",
    "\n",
    "### 7. Advantages of Generators\n",
    "- Memory efficient  \n",
    "- Lazy evaluation  \n",
    "\n",
    "---\n",
    "\n",
    "### 8. Lambda Function\n",
    "```python\n",
    "square = lambda x: x*x\n",
    "print(square(5))\n",
    "```\n",
    "\n",
    "---\n",
    "\n",
    "### 9. map() Function\n",
    "```python\n",
    "nums = [1, 2, 3]\n",
    "squares = list(map(lambda x: x*x, nums))\n",
    "print(squares)\n",
    "```\n",
    "\n",
    "---\n",
    "\n",
    "### 10. map(), reduce(), filter()\n",
    "```python\n",
    "from functools import reduce\n",
    "\n",
    "nums = [1, 2, 3, 4]\n",
    "print(list(map(lambda x: x*2, nums)))\n",
    "print(list(filter(lambda x: x%2==0, nums)))\n",
    "print(reduce(lambda x,y: x+y, nums))\n",
    "```\n",
    "\n",
    "---\n",
    "\n",
    "### 11. Reduce Function Internal Mechanism\n",
    "For list [47, 11, 42, 13]:\n",
    "```\n",
    "(((47+11)+42)+13) = 113\n",
    "```\n"
   ]
  },
  {
   "cell_type": "markdown",
   "id": "8f461857",
   "metadata": {},
   "source": [
    "## 🐍 Practical Questions"
   ]
  },
  {
   "cell_type": "markdown",
   "id": "3d3bacd4",
   "metadata": {},
   "source": [
    "### 1. Sum of Even Numbers"
   ]
  },
  {
   "cell_type": "code",
   "execution_count": null,
   "id": "54cc0c82",
   "metadata": {},
   "outputs": [],
   "source": [
    "def sum_even(nums):\n",
    "    return sum(x for x in nums if x % 2 == 0)\n",
    "\n",
    "sum_even([1,2,3,4,5,6])"
   ]
  },
  {
   "cell_type": "markdown",
   "id": "4853c7e2",
   "metadata": {},
   "source": [
    "### 2. Reverse String"
   ]
  },
  {
   "cell_type": "code",
   "execution_count": null,
   "id": "690ce992",
   "metadata": {},
   "outputs": [],
   "source": [
    "def reverse_string(s):\n",
    "    return s[::-1]\n",
    "\n",
    "reverse_string(\"hello\")"
   ]
  },
  {
   "cell_type": "markdown",
   "id": "9de01048",
   "metadata": {},
   "source": [
    "### 3. Squares of List"
   ]
  },
  {
   "cell_type": "code",
   "execution_count": null,
   "id": "83073634",
   "metadata": {},
   "outputs": [],
   "source": [
    "def square_list(nums):\n",
    "    return [x*x for x in nums]\n",
    "\n",
    "square_list([1,2,3,4])"
   ]
  },
  {
   "cell_type": "markdown",
   "id": "cf4b2a48",
   "metadata": {},
   "source": [
    "### 4. Prime Numbers 1–200"
   ]
  },
  {
   "cell_type": "code",
   "execution_count": null,
   "id": "2225dbd8",
   "metadata": {},
   "outputs": [],
   "source": [
    "def is_prime(n):\n",
    "    if n < 2: return False\n",
    "    for i in range(2, int(n**0.5)+1):\n",
    "        if n % i == 0: return False\n",
    "    return True\n",
    "\n",
    "primes = [x for x in range(1,201) if is_prime(x)]\n",
    "primes[:20]  # show first 20 primes"
   ]
  },
  {
   "cell_type": "markdown",
   "id": "a9e1e38c",
   "metadata": {},
   "source": [
    "### 5. Fibonacci Iterator"
   ]
  },
  {
   "cell_type": "code",
   "execution_count": null,
   "id": "dc76da1f",
   "metadata": {},
   "outputs": [],
   "source": [
    "class Fibonacci:\n",
    "    def __init__(self, n):\n",
    "        self.n, self.a, self.b, self.count = n, 0, 1, 0\n",
    "    def __iter__(self):\n",
    "        return self\n",
    "    def __next__(self):\n",
    "        if self.count >= self.n: raise StopIteration\n",
    "        self.count += 1\n",
    "        self.a, self.b = self.b, self.a+self.b\n",
    "        return self.a\n",
    "\n",
    "list(Fibonacci(10))"
   ]
  },
  {
   "cell_type": "markdown",
   "id": "b96d766a",
   "metadata": {},
   "source": [
    "### 6. Powers of 2 (Generator)"
   ]
  },
  {
   "cell_type": "code",
   "execution_count": null,
   "id": "96780370",
   "metadata": {},
   "outputs": [],
   "source": [
    "def powers_of_two(n):\n",
    "    for i in range(n+1):\n",
    "        yield 2**i\n",
    "\n",
    "list(powers_of_two(5))"
   ]
  },
  {
   "cell_type": "markdown",
   "id": "d449a429",
   "metadata": {},
   "source": [
    "### 7. File Reader Generator"
   ]
  },
  {
   "cell_type": "code",
   "execution_count": null,
   "id": "73e546b2",
   "metadata": {},
   "outputs": [],
   "source": [
    "def read_file(filename):\n",
    "    with open(filename) as f:\n",
    "        for line in f:\n",
    "            yield line.strip()\n",
    "# Example skipped (file needed)"
   ]
  },
  {
   "cell_type": "markdown",
   "id": "0ad76654",
   "metadata": {},
   "source": [
    "### 8. Sort Tuples by Second Element"
   ]
  },
  {
   "cell_type": "code",
   "execution_count": null,
   "id": "60f0f4b1",
   "metadata": {},
   "outputs": [],
   "source": [
    "data = [(1,3),(2,1),(3,2)]\n",
    "data.sort(key=lambda x: x[1])\n",
    "data"
   ]
  },
  {
   "cell_type": "markdown",
   "id": "5402de0e",
   "metadata": {},
   "source": [
    "### 9. Celsius → Fahrenheit"
   ]
  },
  {
   "cell_type": "code",
   "execution_count": null,
   "id": "1d482b94",
   "metadata": {},
   "outputs": [],
   "source": [
    "celsius = [0, 20, 30, 40]\n",
    "fahrenheit = list(map(lambda c: (c*9/5)+32, celsius))\n",
    "fahrenheit"
   ]
  },
  {
   "cell_type": "markdown",
   "id": "c3e334d0",
   "metadata": {},
   "source": [
    "### 10. Remove Vowels"
   ]
  },
  {
   "cell_type": "code",
   "execution_count": null,
   "id": "5ef0fee6",
   "metadata": {},
   "outputs": [],
   "source": [
    "def remove_vowels(s):\n",
    "    return ''.join(filter(lambda ch: ch.lower() not in 'aeiou', s))\n",
    "\n",
    "remove_vowels(\"hello world\")"
   ]
  },
  {
   "cell_type": "markdown",
   "id": "a8df4c52",
   "metadata": {},
   "source": [
    "### 11. Accounting Routine"
   ]
  },
  {
   "cell_type": "code",
   "execution_count": null,
   "id": "f4865050",
   "metadata": {},
   "outputs": [],
   "source": [
    "orders = [\n",
    "    [34587, \"Learning Python\", 4, 40.95],\n",
    "    [98762, \"Programming Python\", 5, 56.80],\n",
    "    [77226, \"Head First Python\", 3, 32.95]\n",
    "]\n",
    "\n",
    "result = list(map(lambda order: (order[0], order[2]*order[3] if order[2]*order[3] > 100 else order[2]*order[3]+10), orders))\n",
    "result"
   ]
  }
 ],
 "metadata": {},
 "nbformat": 4,
 "nbformat_minor": 5
}
