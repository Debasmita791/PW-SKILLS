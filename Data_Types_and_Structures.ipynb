{
  "nbformat": 4,
  "nbformat_minor": 0,
  "metadata": {
    "colab": {
      "provenance": []
    },
    "kernelspec": {
      "name": "python3",
      "display_name": "Python 3"
    },
    "language_info": {
      "name": "python"
    }
  },
  "cells": [
    {
      "cell_type": "markdown",
      "source": [
        "** Assignment : Python - Data Structure **\n",
        "\n",
        "```\n",
        "# This is formatted as code\n",
        "```\n",
        "\n"
      ],
      "metadata": {
        "id": "9Bv7oLntF43G"
      }
    },
    {
      "cell_type": "markdown",
      "source": [
        "1. What are data structures, and why are they important?"
      ],
      "metadata": {
        "id": "dzJjPUHpA-Y1"
      }
    },
    {
      "cell_type": "markdown",
      "source": [
        "Data structures are ways of organizing and storing data to perform operations efficiently. They are important because they make it easier to access, modify, and process data—for example, lists, stacks, queues, and dictionaries."
      ],
      "metadata": {
        "id": "Vx_UGCoaBBt9"
      }
    },
    {
      "cell_type": "markdown",
      "source": [
        "2. Difference between mutable and immutable data types with examples"
      ],
      "metadata": {
        "id": "dn6xNLHIBQfV"
      }
    },
    {
      "cell_type": "markdown",
      "source": [
        "Mutable: Can be changed after creation. Example: list = [1,2,3] → list[0] = 10.\n",
        "\n",
        "Immutable: Cannot be changed after creation. Example: string = \"hello\" → you cannot directly modify a character."
      ],
      "metadata": {
        "id": "SS0xm_tiBSv1"
      }
    },
    {
      "cell_type": "markdown",
      "source": [
        "3. Differences between lists and tuples in Python"
      ],
      "metadata": {
        "id": "YSkyXON8BUf9"
      }
    },
    {
      "cell_type": "markdown",
      "source": [
        "List: Mutable, uses [], slower, can be modified.\n",
        "\n",
        "Tuple: Immutable, uses (), faster, ensures data integrity."
      ],
      "metadata": {
        "id": "a0UzAU0yBZ2N"
      }
    },
    {
      "cell_type": "markdown",
      "source": [
        "4. Describe how dictionaries store data"
      ],
      "metadata": {
        "id": "Duw-22CKBent"
      }
    },
    {
      "cell_type": "markdown",
      "source": [
        "Dictionaries use hash tables internally. Keys are hashed, and values are stored at that hash index."
      ],
      "metadata": {
        "id": "2iS7FTNHBl3G"
      }
    },
    {
      "cell_type": "markdown",
      "source": [
        "5. P Why might you use a set instead of a list in Python3"
      ],
      "metadata": {
        "id": "z78gKof_Bo9V"
      }
    },
    {
      "cell_type": "markdown",
      "source": [
        "Sets automatically remove duplicates and allow fast membership checks."
      ],
      "metadata": {
        "id": "cU6851vAB_FN"
      }
    },
    {
      "cell_type": "markdown",
      "source": [
        "6.What is a string in Python, and how is it different from a list3"
      ],
      "metadata": {
        "id": "rj_ORItJCEHF"
      }
    },
    {
      "cell_type": "markdown",
      "source": [
        "A string is a sequence of characters (immutable). A list is a sequence of items (mutable, can hold multiple data types)."
      ],
      "metadata": {
        "id": "vpBlphKyCHVV"
      }
    },
    {
      "cell_type": "markdown",
      "source": [
        "7. How do tuples ensure data integrity in Python3"
      ],
      "metadata": {
        "id": "NFFtBL0sCM5F"
      }
    },
    {
      "cell_type": "markdown",
      "source": [
        "Since tuples are immutable, data inside them cannot be accidentally modified."
      ],
      "metadata": {
        "id": "h1Vcx5PoCSBN"
      }
    },
    {
      "cell_type": "markdown",
      "source": [
        "8. What is a hash table, and how does it relate to dictionaries in Python?"
      ],
      "metadata": {
        "id": "z2weuK5PCZCW"
      }
    },
    {
      "cell_type": "markdown",
      "source": [
        "A hash table stores key-value pairs using hashing for fast lookup. Python dictionaries are implemented using hash tables."
      ],
      "metadata": {
        "id": "A1lg2LR1Cb0O"
      }
    },
    {
      "cell_type": "markdown",
      "source": [
        "9. Can lists contain different data types in Python?"
      ],
      "metadata": {
        "id": "7RgS7PPACf6G"
      }
    },
    {
      "cell_type": "markdown",
      "source": [
        "Yes. Example: [1, \"hello\", 3.14, True]."
      ],
      "metadata": {
        "id": "vyNJvfRrCikF"
      }
    },
    {
      "cell_type": "markdown",
      "source": [
        "10. Why are strings immutable in Python?"
      ],
      "metadata": {
        "id": "WEdljLL_CkRh"
      }
    },
    {
      "cell_type": "markdown",
      "source": [
        "For security (prevents accidental modification), efficiency (same object can be reused), and memory optimization."
      ],
      "metadata": {
        "id": "AfJeBASsCnRt"
      }
    },
    {
      "cell_type": "markdown",
      "source": [
        "11. What advantages do dictionaries offer over lists for certain tasks3"
      ],
      "metadata": {
        "id": "Hrj5IdhQCpiu"
      }
    },
    {
      "cell_type": "markdown",
      "source": [
        "\n",
        "\n",
        "*   Fast lookups by keys.\n",
        "*   Data stored as key-value pairs.\n",
        "*   Easier to represent structured data.\n"
      ],
      "metadata": {
        "id": "KgBQ71q6CutW"
      }
    },
    {
      "cell_type": "markdown",
      "source": [
        "12. Describe a scenario where using a tuple would be preferable over a list."
      ],
      "metadata": {
        "id": "1FACTpOOC4qO"
      }
    },
    {
      "cell_type": "markdown",
      "source": [
        "When storing constant data like coordinates (x,y) or days of the week."
      ],
      "metadata": {
        "id": "_Mu1SRFGDAF-"
      }
    },
    {
      "cell_type": "markdown",
      "source": [
        "13. How do sets handle duplicate values in Python3"
      ],
      "metadata": {
        "id": "4Ng0_oLTDHIG"
      }
    },
    {
      "cell_type": "markdown",
      "source": [
        "Sets automatically remove duplicates."
      ],
      "metadata": {
        "id": "7oUo66jdDKN2"
      }
    },
    {
      "cell_type": "markdown",
      "source": [
        "14. How does the “in” keyword work differently for lists and dictionaries?"
      ],
      "metadata": {
        "id": "7XsqDeDKDL_O"
      }
    },
    {
      "cell_type": "markdown",
      "source": [
        "List: Checks if value exists → 5 in [1,2,5].\n",
        "\n",
        "Dict: Checks if key exists → \"name\" in {\"name\":\"Alice\"}."
      ],
      "metadata": {
        "id": "nEgaApdvDT-u"
      }
    },
    {
      "cell_type": "markdown",
      "source": [
        "15. Can you modify the elements of a tuple? Explain why or why notP"
      ],
      "metadata": {
        "id": "8xv_wnr2DfHl"
      }
    },
    {
      "cell_type": "markdown",
      "source": [
        "No, because tuples are immutable"
      ],
      "metadata": {
        "id": "zN5WVu7cDoKO"
      }
    },
    {
      "cell_type": "markdown",
      "source": [
        "16.What is a nested dictionary, and give an example of its use case?"
      ],
      "metadata": {
        "id": "bBFef6CIDqEm"
      }
    },
    {
      "cell_type": "markdown",
      "source": [
        "A dictionary inside another dictionary.\n",
        "\n",
        "student = {\"name\": \"John\", \"marks\": {\"math\": 90, \"science\": 85}}"
      ],
      "metadata": {
        "id": "LTYSZCuGDuge"
      }
    },
    {
      "cell_type": "markdown",
      "source": [
        "17. Describe the time complexity of accessing elements in a dictionaryP"
      ],
      "metadata": {
        "id": "DifR-_Y8DyDe"
      }
    },
    {
      "cell_type": "markdown",
      "source": [
        "Average: O(1) due to hashing."
      ],
      "metadata": {
        "id": "Icw-fb9LD4ft"
      }
    },
    {
      "cell_type": "markdown",
      "source": [
        "18.  In what situations are lists preferred over dictionaries?"
      ],
      "metadata": {
        "id": "zkJS3jLuD7G2"
      }
    },
    {
      "cell_type": "markdown",
      "source": [
        "When order matters.\\\n",
        "When data does not need a key-value structure\\\n",
        "For sequential storage."
      ],
      "metadata": {
        "id": "VXu_Gy3cEBzX"
      }
    },
    {
      "cell_type": "markdown",
      "source": [
        "19. Why are dictionaries considered unordered, and how does that affect data retrieval3"
      ],
      "metadata": {
        "id": "5Hw7_ziPEJVW"
      }
    },
    {
      "cell_type": "markdown",
      "source": [
        "Because data is stored using hash functions, not sequentially (though Python 3.7+ maintains insertion order, it’s not the same as sorting)."
      ],
      "metadata": {
        "id": "qMki6NjOEVKu"
      }
    },
    {
      "cell_type": "markdown",
      "source": [
        "20. Explain the difference between a list and a dictionary in terms of data retrieval."
      ],
      "metadata": {
        "id": "uP4pulIVEYrV"
      }
    },
    {
      "cell_type": "markdown",
      "source": [
        "List: Retrieve using index (list[2]).\n",
        "\n",
        "Dict: Retrieve using key (dict[\"name\"])."
      ],
      "metadata": {
        "id": "tGqfBwPsEbWm"
      }
    },
    {
      "cell_type": "markdown",
      "source": [
        "**Practical Question and Answers**"
      ],
      "metadata": {
        "id": "4mUHTUFcEflG"
      }
    },
    {
      "cell_type": "code",
      "source": [
        "# 1. Create a string with your name and print it\n",
        "name = \"Debasmita\"\n",
        "print(name)"
      ],
      "metadata": {
        "colab": {
          "base_uri": "https://localhost:8080/"
        },
        "id": "qlDyhHtdEixu",
        "outputId": "f3b96005-629a-4882-9d04-996a07643d09"
      },
      "execution_count": 40,
      "outputs": [
        {
          "output_type": "stream",
          "name": "stdout",
          "text": [
            "Debasmita\n"
          ]
        }
      ]
    },
    {
      "cell_type": "code",
      "source": [
        "# 2. Length of \"Hello World\"\n",
        "print(len(\"Hello World\"))"
      ],
      "metadata": {
        "colab": {
          "base_uri": "https://localhost:8080/"
        },
        "id": "MM1mm5mRElin",
        "outputId": "043f798e-78ee-4215-b471-08f2d796518a"
      },
      "execution_count": 41,
      "outputs": [
        {
          "output_type": "stream",
          "name": "stdout",
          "text": [
            "11\n"
          ]
        }
      ]
    },
    {
      "cell_type": "code",
      "source": [
        "# 3. Slice first 3 characters from \"Python Programming\"\n",
        "print(\"Python Programming\"[:3])\n"
      ],
      "metadata": {
        "colab": {
          "base_uri": "https://localhost:8080/"
        },
        "id": "3gRfq7qYEt-N",
        "outputId": "12dc18a4-76ea-4a23-f66d-bc9ee0b6a2ab"
      },
      "execution_count": 42,
      "outputs": [
        {
          "output_type": "stream",
          "name": "stdout",
          "text": [
            "Pyt\n"
          ]
        }
      ]
    },
    {
      "cell_type": "code",
      "source": [
        "# 4. Convert \"hello\" to uppercase\n",
        "print(\"hello\".upper())\n"
      ],
      "metadata": {
        "colab": {
          "base_uri": "https://localhost:8080/"
        },
        "id": "qky5ZDgKEv--",
        "outputId": "ac5451c4-197e-4d67-a223-9bf21ebccef6"
      },
      "execution_count": 43,
      "outputs": [
        {
          "output_type": "stream",
          "name": "stdout",
          "text": [
            "HELLO\n"
          ]
        }
      ]
    },
    {
      "cell_type": "code",
      "source": [
        "# 5. Replace \"apple\" with \"orange\"\n",
        "print(\"I like apple\".replace(\"apple\", \"orange\"))"
      ],
      "metadata": {
        "colab": {
          "base_uri": "https://localhost:8080/"
        },
        "id": "vf0m37SYExg2",
        "outputId": "58e620c1-6f05-4956-a201-68fa3daf2647"
      },
      "execution_count": 44,
      "outputs": [
        {
          "output_type": "stream",
          "name": "stdout",
          "text": [
            "I like orange\n"
          ]
        }
      ]
    },
    {
      "cell_type": "code",
      "source": [
        "# 6. Create a list 1 to 5\n",
        "lst = [1, 2, 3, 4, 5]\n",
        "print(lst)"
      ],
      "metadata": {
        "colab": {
          "base_uri": "https://localhost:8080/"
        },
        "id": "ODgBdeIIE81-",
        "outputId": "723a9cb2-1212-4ccc-d078-de45c1c08b27"
      },
      "execution_count": 45,
      "outputs": [
        {
          "output_type": "stream",
          "name": "stdout",
          "text": [
            "[1, 2, 3, 4, 5]\n"
          ]
        }
      ]
    },
    {
      "cell_type": "code",
      "source": [
        "\n",
        "# 7. Append 10 to [1,2,3,4]\n",
        "lst = [1,2,3,4]\n",
        "lst.append(10)\n",
        "print(lst)"
      ],
      "metadata": {
        "colab": {
          "base_uri": "https://localhost:8080/"
        },
        "id": "ydqczj3dE6_e",
        "outputId": "4e6f5275-7761-467b-ec26-bb1dcba03d54"
      },
      "execution_count": 46,
      "outputs": [
        {
          "output_type": "stream",
          "name": "stdout",
          "text": [
            "[1, 2, 3, 4, 10]\n"
          ]
        }
      ]
    },
    {
      "cell_type": "code",
      "source": [
        "# 8. Remove 3 from [1,2,3,4,5]\n",
        "lst = [1,2,3,4,5]\n",
        "lst.remove(3)\n",
        "print(lst)"
      ],
      "metadata": {
        "colab": {
          "base_uri": "https://localhost:8080/"
        },
        "id": "N2mlMKuFFFCu",
        "outputId": "47c76f38-8a5d-45bd-8b6a-4916dcafc0f9"
      },
      "execution_count": 47,
      "outputs": [
        {
          "output_type": "stream",
          "name": "stdout",
          "text": [
            "[1, 2, 4, 5]\n"
          ]
        }
      ]
    },
    {
      "cell_type": "code",
      "source": [
        "# 9. Access second element ['a','b','c','d']\n",
        "lst = ['a','b','c','d']\n",
        "print(lst[1])"
      ],
      "metadata": {
        "colab": {
          "base_uri": "https://localhost:8080/"
        },
        "id": "sYjkDnLyFHKe",
        "outputId": "f1e8708d-7e93-4fcc-99ad-c70c09b7975d"
      },
      "execution_count": 48,
      "outputs": [
        {
          "output_type": "stream",
          "name": "stdout",
          "text": [
            "b\n"
          ]
        }
      ]
    },
    {
      "cell_type": "code",
      "source": [
        "# 10. Reverse list [10,20,30,40,50]\n",
        "lst = [10,20,30,40,50]\n",
        "lst.reverse()\n",
        "print(lst)"
      ],
      "metadata": {
        "colab": {
          "base_uri": "https://localhost:8080/"
        },
        "id": "0uVHLDTYFJUO",
        "outputId": "cf13aa4c-2690-4313-fb69-b1652d13e560"
      },
      "execution_count": 49,
      "outputs": [
        {
          "output_type": "stream",
          "name": "stdout",
          "text": [
            "[50, 40, 30, 20, 10]\n"
          ]
        }
      ]
    },
    {
      "cell_type": "code",
      "source": [
        "# 11. Tuple with 100,200,300\n",
        "tup = (100,200,300)\n",
        "print(tup)"
      ],
      "metadata": {
        "colab": {
          "base_uri": "https://localhost:8080/"
        },
        "id": "a9OKdgc4FLG2",
        "outputId": "5728d63d-c7f3-43d6-c047-a084cd8108c5"
      },
      "execution_count": 50,
      "outputs": [
        {
          "output_type": "stream",
          "name": "stdout",
          "text": [
            "(100, 200, 300)\n"
          ]
        }
      ]
    },
    {
      "cell_type": "code",
      "source": [
        "# 12. Access second-to-last element\n",
        "tup = ('red','green','blue','yellow')\n",
        "print(tup[-2])\n"
      ],
      "metadata": {
        "colab": {
          "base_uri": "https://localhost:8080/"
        },
        "id": "S7V3-nMHFMbG",
        "outputId": "b30ac185-e9e8-4752-c041-945c143933dd"
      },
      "execution_count": 51,
      "outputs": [
        {
          "output_type": "stream",
          "name": "stdout",
          "text": [
            "blue\n"
          ]
        }
      ]
    },
    {
      "cell_type": "code",
      "source": [
        "# 13. Find min in tuple\n",
        "tup = (10,20,5,15)\n",
        "print(min(tup))"
      ],
      "metadata": {
        "colab": {
          "base_uri": "https://localhost:8080/"
        },
        "id": "igxQFTOTFNxu",
        "outputId": "d82e5f2d-dc62-4969-8a09-c689e5b8f382"
      },
      "execution_count": 52,
      "outputs": [
        {
          "output_type": "stream",
          "name": "stdout",
          "text": [
            "5\n"
          ]
        }
      ]
    },
    {
      "cell_type": "code",
      "source": [
        "# 14. Find index of \"cat\"\n",
        "tup = ('dog','cat','rabbit')\n",
        "print(tup.index(\"cat\"))"
      ],
      "metadata": {
        "colab": {
          "base_uri": "https://localhost:8080/"
        },
        "id": "1kq13s80FPIF",
        "outputId": "749c3765-a8e2-4a51-b59a-4779fd041c6a"
      },
      "execution_count": 53,
      "outputs": [
        {
          "output_type": "stream",
          "name": "stdout",
          "text": [
            "1\n"
          ]
        }
      ]
    },
    {
      "cell_type": "code",
      "source": [
        "# 15. Tuple of fruits, check \"kiwi\"\n",
        "fruits = ('apple','banana','orange')\n",
        "print(\"kiwi\" in fruits)"
      ],
      "metadata": {
        "colab": {
          "base_uri": "https://localhost:8080/"
        },
        "id": "S3xeKBT_FQQW",
        "outputId": "251a700f-4f8d-444e-91dd-b9c03ea5eca0"
      },
      "execution_count": 54,
      "outputs": [
        {
          "output_type": "stream",
          "name": "stdout",
          "text": [
            "False\n"
          ]
        }
      ]
    },
    {
      "cell_type": "code",
      "source": [
        "# 16. Create set\n",
        "s = {'a','b','c'}\n",
        "print(s)"
      ],
      "metadata": {
        "colab": {
          "base_uri": "https://localhost:8080/"
        },
        "id": "X4CUDpS3FRtW",
        "outputId": "49d24ca4-5e92-4423-a1d0-7ffb903e002b"
      },
      "execution_count": 55,
      "outputs": [
        {
          "output_type": "stream",
          "name": "stdout",
          "text": [
            "{'a', 'b', 'c'}\n"
          ]
        }
      ]
    },
    {
      "cell_type": "code",
      "source": [
        "# 17. Clear set\n",
        "s = {1,2,3,4,5}\n",
        "s.clear()\n",
        "print(s)"
      ],
      "metadata": {
        "colab": {
          "base_uri": "https://localhost:8080/"
        },
        "id": "9AalxGOxFTBG",
        "outputId": "e3422aa5-3668-4cd9-90e7-0417ff81388e"
      },
      "execution_count": 56,
      "outputs": [
        {
          "output_type": "stream",
          "name": "stdout",
          "text": [
            "set()\n"
          ]
        }
      ]
    },
    {
      "cell_type": "code",
      "source": [
        "# 18. Remove 4 from set\n",
        "s = {1,2,3,4}\n",
        "s.remove(4)\n",
        "print(s)"
      ],
      "metadata": {
        "colab": {
          "base_uri": "https://localhost:8080/"
        },
        "id": "M6a5RxzlFUPu",
        "outputId": "e006b8f3-1d87-4a24-aa27-bcb1043e0bde"
      },
      "execution_count": 57,
      "outputs": [
        {
          "output_type": "stream",
          "name": "stdout",
          "text": [
            "{1, 2, 3}\n"
          ]
        }
      ]
    },
    {
      "cell_type": "code",
      "source": [
        "# 19. Union of sets\n",
        "s1, s2 = {1,2,3}, {3,4,5}\n",
        "print(s1.union(s2))"
      ],
      "metadata": {
        "colab": {
          "base_uri": "https://localhost:8080/"
        },
        "id": "K_hjpACrFVp2",
        "outputId": "e08359ad-5c30-48f2-dcee-ad8e822deded"
      },
      "execution_count": 58,
      "outputs": [
        {
          "output_type": "stream",
          "name": "stdout",
          "text": [
            "{1, 2, 3, 4, 5}\n"
          ]
        }
      ]
    },
    {
      "cell_type": "code",
      "source": [
        "# 20. Intersection of sets\n",
        "s1, s2 = {1,2,3}, {2,3,4}\n",
        "print(s1.intersection(s2))\n"
      ],
      "metadata": {
        "colab": {
          "base_uri": "https://localhost:8080/"
        },
        "id": "Uz3mKRvAFXG2",
        "outputId": "068f6855-02b0-42a9-f5a5-017e128e4872"
      },
      "execution_count": 59,
      "outputs": [
        {
          "output_type": "stream",
          "name": "stdout",
          "text": [
            "{2, 3}\n"
          ]
        }
      ]
    },
    {
      "cell_type": "code",
      "source": [
        "# 21. Create dictionary\n",
        "d = {\"name\":\"John\",\"age\":25,\"city\":\"New York\"}\n",
        "print(d)"
      ],
      "metadata": {
        "colab": {
          "base_uri": "https://localhost:8080/"
        },
        "id": "OeKO-NW7FYdG",
        "outputId": "7598f438-3c7a-4e8e-b6a7-7991ae408202"
      },
      "execution_count": 60,
      "outputs": [
        {
          "output_type": "stream",
          "name": "stdout",
          "text": [
            "{'name': 'John', 'age': 25, 'city': 'New York'}\n"
          ]
        }
      ]
    },
    {
      "cell_type": "code",
      "source": [
        "\n",
        "# 22. Add new key-value\n",
        "d = {'name':'John','age':25}\n",
        "d[\"country\"] = \"USA\"\n",
        "print(d)"
      ],
      "metadata": {
        "colab": {
          "base_uri": "https://localhost:8080/"
        },
        "id": "O5k_TInZFZw-",
        "outputId": "01bfa929-0a53-43db-e68d-8916a16ee5e8"
      },
      "execution_count": 61,
      "outputs": [
        {
          "output_type": "stream",
          "name": "stdout",
          "text": [
            "{'name': 'John', 'age': 25, 'country': 'USA'}\n"
          ]
        }
      ]
    },
    {
      "cell_type": "code",
      "source": [
        "# 23. Access value of \"name\"\n",
        "d = {'name':'Alice','age':30}\n",
        "print(d[\"name\"])"
      ],
      "metadata": {
        "colab": {
          "base_uri": "https://localhost:8080/"
        },
        "id": "oxiY0VMVFbDe",
        "outputId": "7a8b545a-ea79-4222-dd3b-6b87be44ac0e"
      },
      "execution_count": 62,
      "outputs": [
        {
          "output_type": "stream",
          "name": "stdout",
          "text": [
            "Alice\n"
          ]
        }
      ]
    },
    {
      "cell_type": "code",
      "source": [
        "# 24. Remove \"age\"\n",
        "d = {'name':'Bob','age':22,'city':'New York'}\n",
        "d.pop(\"age\")\n",
        "print(d)"
      ],
      "metadata": {
        "colab": {
          "base_uri": "https://localhost:8080/"
        },
        "id": "gc2jGC2lFc4-",
        "outputId": "c626ad7c-c572-48ac-ff74-6b451a8cf4dd"
      },
      "execution_count": 63,
      "outputs": [
        {
          "output_type": "stream",
          "name": "stdout",
          "text": [
            "{'name': 'Bob', 'city': 'New York'}\n"
          ]
        }
      ]
    },
    {
      "cell_type": "code",
      "source": [
        "# 25. Check if \"city\" exists\n",
        "d = {'name':'Alice','city':'Paris'}\n",
        "print(\"city\" in d)"
      ],
      "metadata": {
        "colab": {
          "base_uri": "https://localhost:8080/"
        },
        "id": "L5bPz1qKFeeu",
        "outputId": "29fb4fa3-a00e-4ca4-95de-c69af87ec31d"
      },
      "execution_count": 64,
      "outputs": [
        {
          "output_type": "stream",
          "name": "stdout",
          "text": [
            "True\n"
          ]
        }
      ]
    },
    {
      "cell_type": "code",
      "source": [
        "# 26. Create list, tuple, dict\n",
        "lst = [1,2,3]\n",
        "tup = (4,5,6)\n",
        "d = {\"a\":1,\"b\":2}\n",
        "print(lst,tup,d)"
      ],
      "metadata": {
        "colab": {
          "base_uri": "https://localhost:8080/"
        },
        "id": "UrBG24ORFf3e",
        "outputId": "f62b06eb-774d-4b6b-b0f9-05cc318943d6"
      },
      "execution_count": 65,
      "outputs": [
        {
          "output_type": "stream",
          "name": "stdout",
          "text": [
            "[1, 2, 3] (4, 5, 6) {'a': 1, 'b': 2}\n"
          ]
        }
      ]
    },
    {
      "cell_type": "code",
      "source": [
        "# 27. Random list 1-100 sorted\n",
        "import random\n",
        "lst = random.sample(range(1,101),5)\n",
        "lst.sort()\n",
        "print(lst)"
      ],
      "metadata": {
        "colab": {
          "base_uri": "https://localhost:8080/"
        },
        "id": "iKmMlJTxFhbe",
        "outputId": "d58fd8f4-ab30-43b3-f216-4900fdf0b722"
      },
      "execution_count": 66,
      "outputs": [
        {
          "output_type": "stream",
          "name": "stdout",
          "text": [
            "[6, 7, 31, 33, 69]\n"
          ]
        }
      ]
    },
    {
      "cell_type": "code",
      "source": [
        "# 28. List with strings, print third index\n",
        "lst = [\"apple\",\"banana\",\"cherry\",\"date\",\"fig\"]\n",
        "print(lst[3])\n"
      ],
      "metadata": {
        "colab": {
          "base_uri": "https://localhost:8080/"
        },
        "id": "7g6MJBIjFi2m",
        "outputId": "feb718ff-1a6f-4ebc-8e87-e4b93a0ff653"
      },
      "execution_count": 67,
      "outputs": [
        {
          "output_type": "stream",
          "name": "stdout",
          "text": [
            "date\n"
          ]
        }
      ]
    },
    {
      "cell_type": "code",
      "source": [
        "# 29. Combine two dictionaries\n",
        "d1 = {\"a\":1,\"b\":2}\n",
        "d2 = {\"c\":3,\"d\":4}\n",
        "d1.update(d2)\n",
        "print(d1)"
      ],
      "metadata": {
        "colab": {
          "base_uri": "https://localhost:8080/"
        },
        "id": "zKx8N8sKFkBm",
        "outputId": "da551849-8e67-4944-c18d-d1ce9f5f51a5"
      },
      "execution_count": 68,
      "outputs": [
        {
          "output_type": "stream",
          "name": "stdout",
          "text": [
            "{'a': 1, 'b': 2, 'c': 3, 'd': 4}\n"
          ]
        }
      ]
    },
    {
      "cell_type": "code",
      "source": [
        "# 30. Convert list of strings to set\n",
        "lst = [\"apple\",\"banana\",\"apple\",\"cherry\"]\n",
        "print(set(lst))"
      ],
      "metadata": {
        "colab": {
          "base_uri": "https://localhost:8080/"
        },
        "id": "tPUQENRSFlSe",
        "outputId": "5784d46a-4008-4223-b14b-e383d5d2c908"
      },
      "execution_count": 69,
      "outputs": [
        {
          "output_type": "stream",
          "name": "stdout",
          "text": [
            "{'cherry', 'banana', 'apple'}\n"
          ]
        }
      ]
    }
  ]
}